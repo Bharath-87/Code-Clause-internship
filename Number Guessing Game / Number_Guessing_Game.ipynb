{
  "nbformat": 4,
  "nbformat_minor": 0,
  "metadata": {
    "colab": {
      "provenance": [],
      "authorship_tag": "ABX9TyOKr6PbXQnqxf+51h2rJsge",
      "include_colab_link": true
    },
    "kernelspec": {
      "name": "python3",
      "display_name": "Python 3"
    },
    "language_info": {
      "name": "python"
    }
  },
  "cells": [
    {
      "cell_type": "markdown",
      "metadata": {
        "id": "view-in-github",
        "colab_type": "text"
      },
      "source": [
        "<a href=\"https://colab.research.google.com/github/Bharath-87/Code-Clause-internship/blob/main/Number%20Guessing%20Game%20/%20Number_Guessing_Game.ipynb\" target=\"_parent\"><img src=\"https://colab.research.google.com/assets/colab-badge.svg\" alt=\"Open In Colab\"/></a>"
      ]
    },
    {
      "cell_type": "code",
      "execution_count": 13,
      "metadata": {
        "colab": {
          "base_uri": "https://localhost:8080/"
        },
        "id": "1eSt82V-AqFu",
        "outputId": "fa6cc370-0393-44ab-f5cc-5816864512d9"
      },
      "outputs": [
        {
          "output_type": "stream",
          "name": "stdout",
          "text": [
            "*** Number Guessing Game ***\n",
            "Enter the number range x,y: 10,30\n",
            "Number is Locked!!\n",
            "Guess the number: 15\n",
            "Guessed number is too low. Try Again!\n",
            "Guess the number: 24\n",
            "Guessed number is too high. Try Again!\n",
            "Guess the number: 20\n",
            "Guessed number is too low. Try Again!\n",
            "Guess the number: 22\n",
            "Guessed number is too low. Try Again!\n",
            "Guess the number: 23\n",
            "Congratulations!! You win.\n"
          ]
        }
      ],
      "source": [
        "import random\n",
        "print(\"*** Number Guessing Game ***\")\n",
        "x,y=input(\"Enter the number range x,y: \").split(\",\")\n",
        "try:\n",
        "  gn=random.randint(int(x),int(y))\n",
        "  print(\"Number is Locked!!\")\n",
        "  while 1:\n",
        "    num=int(input(\"Guess the number: \"))\n",
        "    if num==gn:\n",
        "      print(\"Congratulations!! You win.\")\n",
        "      break\n",
        "    elif num>gn:\n",
        "      print(\"Guessed number is too high. Try Again!\")\n",
        "    elif num<gn:\n",
        "      print(\"Guessed number is too low. Try Again!\")\n",
        "except:\n",
        "  print(\"No Alphabet is supported!!\")\n"
      ]
    }
  ]
}